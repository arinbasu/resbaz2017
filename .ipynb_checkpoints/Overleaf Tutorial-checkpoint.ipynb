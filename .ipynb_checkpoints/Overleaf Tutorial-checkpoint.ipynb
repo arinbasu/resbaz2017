{
 "cells": [
  {
   "cell_type": "markdown",
   "metadata": {},
   "source": [
    "## Overleaf Tutorial\n",
    "\n",
    "The purpose of this tutorial is to get you up and running with Overleaf. [Overleaf](http://www.overleaf.com) is a web based LaTeX backend writing tool. You can use Overleaf to write almost any type of document ranging from simple notes to complex documents such as theses and even use Overleaf to create slide decks. In this tutorial, I will get you started to use Overleaf. Overleaf has an extensive set of tutorials that you can use to learn more about this platform. Besides these tutorials, you should also make yourself familiar with the principles of working with LaTeX and the two great sites are LaTeX stackexchange and the LaTeX wikibooks. A set of resources are provided at the end of this tutorial. \n",
    "\n",
    "## Step 1: Get an Account with Overleaf\n",
    "Visit [Overleaf](http://www.overleaf.com) website and set up for yourself a free Overleaf Account. This will take about two minutes to get yourself going. When you visit the Overleaf page to sign up you will see something like this:\n",
    "\n",
    "![Imgur](http://i.imgur.com/nSrg08O.png)\n",
    "\n",
    "Use either your social media signins or other ways to sign up for the service. After you have signed up for the service, you will need to sign in. Alternatively, if you have a LaTeX document, you can directly upload to your Overleaf account. You can create LaTeX document easily on your computer using plain text editors such as Notepad (Windows), or TextEdit (Mac), or any other plain text editor with syntaxes. For more information on how to write LaTeX, see the resources section. \n",
    "\n",
    "\n",
    "## Step 2: Open a Project: Start with an Article\n",
    "\n",
    "When you sign in, you will be asked to create a new project. \n",
    "\n",
    "**Concept of Project in Overleaf**\n",
    "\n",
    "A project is a folder that contains a number of files. The limit of total filesize for free account is 1 GB, and you can upload a maxium of 60 files if you use their free service. For paid accounts, you can upload up to 500 files the limit for your project size is 10 GB. Even with free service, if you plan to use plain text and simple image files, this is plenty of files and images. The following types of files are allowed to be uploaded or created in this folder:\n",
    "\n",
    "- LaTeX files, or files whose filename end with .tex, such as foo.tex\n",
    "- Plain text files, files whose filenae extension end with .txt\n",
    "- Markdown Files whose filename extensions end with .markdown or .md \n",
    "- Image files. Try to use portable network graphics type of files or jpeg files as these files are compressed and useful for web presentation, and also for high resolution images.\n",
    "- code files such as R files whose extensions end with .R \n",
    "- Bibliography files whose filenames end with .bib, as in foo.bib\n",
    "- When you attempt to upload files to Overleaf, it will alert you as to what kind of files are allowed\n",
    "\n",
    "Overleaf is great for writing scholarly articles and collaborating with others. Scholarly articles usually have images, tables, figures, citations, and reference/bibliography embedded in them. These days an overwhelming majority of scholarly and academic articles are multi-authored and therefore it is a good practice to share your articles with colleagues or coauthors. Therefore, many scholar keep copies of articles in web or online repositories. Further, many articles are also published or made available over online. Overleaf is a great way to accomplish all these tasks. Besides writing articles, scholars or academics also create inforgraphics or slide decks for teaching and presentation of their data. Using Beamer class in Overleaf it is possible to create slide decks for presentation and distribution. In this presentation, we will not have the opportunity to showcase everything, but this notebook will contain instructions for creating slide decks with Overleaf as well. \n",
    "\n",
    "## Step 3: Start a Project\n",
    "\n",
    "1. Now click on \"New Project\". \n",
    "2. Choose \"Sample Paper\" for now. \n",
    "3. Clicko on the sample paper, and after a few seconds, it will show up in your web browser pane.\n",
    "\n",
    "We will work on this sample paper to convert it to a Research Paper looking document with title, two levels of headers, lists, images, tables, and a reference list with inline citations. \n",
    "\n",
    "There's a lot going on here, so let's take a look at the anatomy of this web page to orient ourselves a little. First, take a look at this document:\n",
    "\n",
    "![Imgur](http://i.imgur.com/C5QjCCH.png)\n",
    "\n",
    "From left to right, there are three panes:\n",
    "\n",
    "1. The File Manager Pane\n",
    "2. The Main Writing Area where you will write\n",
    "3. The PDF viewer pane which shows the output of your work\n",
    "\n",
    "You can collapse the right and the left pane for undistracted writing, but for the time being, keep them open. \n",
    "\n",
    "## The File Manager Pane\n",
    "\n",
    "Here is the file manager pane:\n",
    "\n",
    "![Imgur](http://i.imgur.com/m80GRw2.png)\n",
    "\n",
    "You will see that there are several options to add latex files, image files, graphs from services such as [plot.ly](http://www.plot.ly), and bibliography files in the form of bibtex files. Besides this, you can store a file in any service such as Google Drive, Dropbox (this is applicable for pro accounts), or webdav, or indeed a number of different services. So basically, if you have a file anywhere in the web or anywhere in your hard drive, you can upload that file to the filespace and use that file to work with Overleaf. You will also see that the file manager pane has a word count feature. This is handy as this will provide you word counts for the different text files you upload on the file manager. Just a click on the \"word count\" will bring up a text box with relevant information.\n",
    "\n",
    "## The Main Writing Panel\n",
    "\n",
    "This is view of the source of LaTeX document:\n",
    "\n",
    "![Imgur](http://i.imgur.com/qQepQH3.png)\n",
    "\n",
    "Use this if you are:\n",
    "\n",
    "1. Happy to write or edit the source code\n",
    "2. If you are familiar with how to write in raw LaTeX and want to write that way. \n",
    "3. Add additional codes, add packages and tweak or edit the document in many ways. \n",
    "\n",
    "This is a great way to write raw LaTeX in Overleaf. A great thing about Overleaf is that you can write all syntaxes in your own computer and then use Overleaf to compile the LaTeX code on your document using Overleaf free version. As they have almost all LaTeX packages installed on their server, you will can have excellent control over how your document appears. You can just keep writing in your favourite text editor and just upload and compile your LaTeX code using Overleaf.\n",
    "\n",
    "If you are, on the other hand, learning the basics of Overleaf or LaTeX or prefer to write in rich text format (as we write in Word or Pages or OpenOffice, or LibreOffice, or Google Docs, indeed any rich text format what you see is what you get kind of text editor, then click on the \"Rich Text\" button and you will see something like as follows:\n",
    "\n",
    "![Imgur](http://i.imgur.com/nRJRz14.png)\n",
    "\n",
    "Now, this is an intuitive interface where you can easily write without worrying about how the source code. Just start typing. But before we leave this view yet, let's take a look at the top horizontal bar:\n",
    "\n",
    "![Writing Tab](http://i.imgur.com/RcIvaZE.png)\n",
    "\n",
    "This presents you a minimalist set of writing tabs. We have already see the source and rich text. \n",
    "\n",
    "- The speech balloon with a plus sign is for writing comments. \n",
    "- The clock is for version control. Use it to view and revert to older versions\n",
    "- The editing is really minimalist, only for cutting and pasting words. You will most likely use Cmd-x, Cmd-c (or control-x and control-c in windows/linux) \n",
    "- The Find button is versatile in that you can find and replace words and expressions\n",
    "- It gives you only two section levels (or think of headers, only two levels of headers), and just two ways to decorate your fonts (either bold or italics), and just two ways to write lists (enumerated lists or bullet point itemized lists)\n",
    "- Just two styles of writing formulae \n",
    "\n",
    "In most cases, this will be sufficient for you to write a fairly comprehensive document using the rich text. No doubt when we write long documents we need to add some more elements that are not present in the formatting bar. These are:\n",
    "\n",
    "1. Inserting citations and references\n",
    "2. Inserting tables\n",
    "3. Inserting figures\n",
    "4. Other special characters and symbols\n",
    "\n",
    "For all of these above mentioned four actions for our documents, we need to use the \"Source view\" of the document and insert LaTeX codes. \n",
    "\n",
    "## The Viewer\n",
    "\n",
    "You will see the viewer has two options:\n",
    "\n",
    "![Viewer](http://i.imgur.com/qYwPEuG.png)\n",
    "\n",
    "You can let Overleaf autoupdate as you keep writing. Or you can set it to manual mode, and update the document when you want to. If you are going to write complex code or something that can break, etc, then leave Overleaf in Manual Mode. Also, if you work in slow connections, or want to save bandwidth, it is a good idea to leave it in manual mode. Otherwise, use the Auto mode to work. \n",
    "\n",
    "## The Panel on Top\n",
    "\n",
    "Other than these features, there is a panel on the top of the page spanning all three window with the following titles:\n",
    "\n",
    "1. Overleaf: this will bring you back to the Overleaf project page\n",
    "2. Project: This is your project file window or the folder pane or the folder panel containing your list of files. Very handy for those situations when you have minimised the windows and want to focus only on the middle window pane to write your paper\n",
    "3. Share: You can share your document with your friends or use git. We will review this later\n",
    "4. PDF: You can generate a PDF of your document when your work is done\n",
    "5. Journals and Services: Click here to instantly send your paper to journals and to editing services or to web based databases. This is a world of its own and we will see at the end when we complete writing a document\n",
    "6. Question Mark: This is for obtaining help and miscellaneous functions. \n",
    "7. Cog-wheel: This is where you tweak your project settings (the current project and all your projects). For this tutorial, we will leave these untouched\n",
    "8. Your Name: If you click here, you will see several choices to update your profile and connect your social media to Overleaf and so on. Pretty self explanatory when you connect, so we will leave it for now. "
   ]
  },
  {
   "cell_type": "markdown",
   "metadata": {},
   "source": [
    "## Step 4: Start writing the title and abstract and add some text\n",
    "\n",
    "**Write your title of the paper and your name and email address**\n",
    "\n",
    "OK, so now let's start from the beginning to do some writing.\n",
    "\n",
    "First, let's start with the rich text mode and give our paper a title. At the moment it says \"Your Title\", so we will change it and write \n",
    "\"My First Paper\" (you can write whatever you want to set it a title). If you click on the title in rich text mode, it will immediately switch to bring you to the \"Source Mode\". That's fine and you will not need to know or add any \"code\" to write anything. Just navigate to where it says \"\\title{Your paper}\" and \"\\author{You}\", here:\n",
    "\n",
    "![titleauthor](http://i.imgur.com/LTyyJ6r.png)\n",
    "\n",
    "Go ahead, fill in the title of the paper and your name and your email address. The name and the email address will be in two different lines separated by the line separation character \"\\\\\" (note that this is a pair of backslashes, do not put forward slashes). So, if you wanted to add your institution in the next line, add another pair of backslashes and write that too, and so on. After you write these, the programme may not bring you back automatically to the rich text format, so you click on the \"Rich Text\" green box once more and come back. Now you will see your title and your name, institution, and email showing up on the top. \n",
    "\n",
    "## The main.tex and other documents\n",
    "\n",
    "At this stage, let's introduce a concept. If you check the left hand panel and the central panel where you are now, you will see that on the left hand panel is a document titled \"main.tex\" highlighted and in the central panel you have the main document ready. If you were to select another document (say \"sample.bib\"), you will see another document appear in the central panel. This is a very simple minimalist set up of a paper we are writing and at the moment we have only three documents to work on. But the point is this, if we select any document in the left panel, that document becomes active in the central panel or our working panel. Also note that this operation allows only one document to be active at any one time in the central panel where you will be writing. \n",
    "\n",
    "This is important. If you keep this principle in mind that there is only one document that is active at any one time and that your project is made up of a series of documents, then, you can build your thesis, your research paper, your whatever document you want like a set of lego blocks. This is a great feature. You can practically build a structure of your document in the left hand panel and write each piece brick by brick. You will still be able to see how everything holds together by activating the preview and test how everything fits together. This is a great way to build your arguments piece by piece. Which basically means, you can leave the main.tex document as an \"Engine\" or a skeleton and add bits and pieces of other documents and images to build your entire project and push it as you like. We will see how it works. \n",
    "\n",
    "So, let's do this. Let's say we would like to write an essay arguing the usefulness of web based collaborative writing and using online tools. We would like to structure the essay in three sections: an introduction section (we call the section \"Introduction\") where we will build an argument as to why web based scholarly documents are needed, a middle section where we will add a table and some lists showing what tools are available for us (we call this section \"Tools\"), and a third section, where we will argue the next way forward which we will call \"Discussion\". In writing this short document we will use the following:\n",
    "\n",
    "1. We will write a short abstract \n",
    "2. We will write one or two paragraphs in the introduction and discussion section with references and citations\n",
    "3. We will add images and tables in the middle section\n",
    "\n",
    "In order to do this, we will structure the paper as follows:\n",
    "\n",
    "1. We will keep the main.tex where we will leave the abstract and front matter (we call this \"preamble\" in LaTeX speak)\n",
    "2. We will create the skeleton of the paper by adding sections to the main.tex but will not write anything there. Remember there are three sections, \"Introduction\", \"Tools\", and \"Discussion\". \n",
    "3. We will add documents to the left hand panel corresponding to the sections and we will add three plain text documents: \"introduction.tex\", \"tools.tex\", and \"discussion.tex\".\n",
    "\n",
    "So, working from left to right, let's first add these three documents to the left hand panel. To add documents to the panel, do:\n",
    "\n",
    "Files ... > Add Blank File > name_of_the_file.tex in the blank space and hit enter. You will see the file added to the left hand panel. Nothing else happens. Just remember to use the file extension .tex as that is really important. Note that the order in which these files are arranged in alphabetical order. \n",
    "\n",
    "## Write the abstract first\n",
    "\n",
    "Let's write the abstract first using the rich text format to describe what we will do. This is a dummy document, you can write a short paragraph. \n",
    "\n",
    "## Write the sections in the main.tex document\n",
    "\n",
    "Click on the smaller sectioning command on the top bar and you will see this will enter a code in the RTF document. Write the section name \"Introduction\" (even though an introduction section is already present) and see this transform into a rich text. Then add another section in the line below. Leave a blank line in between and fill in the remaining sections. Then remove everything else up to where it says \"bibliograhystyle{alpha} and \\bibliography{sample}\". Leave them in. Remove all other text above these two lines. \n",
    "\n",
    "## One more thing\n",
    "\n",
    "We shall soon start populating the sections, but we need to organise a few things before we did that.\n",
    "\n",
    "1. First, let's take a look at the preamble of the document. In your writing workflow with Overleaf, it is a good idea to set up the preamble before you start your work as this will save you a lot of time. This is a strength of Overleaf that they already provide you with templates (there are numerous templates to choose from with all the bells and whistles so that you will not have to worry too much about the \"packages\" that you will need to load, and that, even the most basic article writing template is good enough for serious writing.\n",
    "2. Second, let's do some preliminary research and get some references to populate the sample.bib. In this workshop we cannot cover Bibtex. Bibtex deserves its own workshop.\n",
    "3. Third, we input the three documents we created.\n",
    "\n",
    "## The Preamble and the packages\n",
    "\n",
    "In a LaTeX document, the preamble is a list of packages and other information, the meta data about the document. The packages contain codes that enable you to write a well formatted structured document with tables, figures, equations, special characters, and other details. If you open the \"Source\" on the main.tex document you will see that this is pre-filled as follows:\n",
    "\n",
    "![preamble](http://i.imgur.com/lHxGH3d.png)\n",
    "\n",
    "This by itself is fairly complete for our purpose. We can do with some pretty tables, so we will add the package booktabs to the list of usepackages. You note the single backslash character here. In preamble space (before we begin our document), these indicate special LaTeX code markers. Within the document, a backslash is interpreted as a marker of special characters, so if you were to write ampersands or percentage signs or greek characters, you would need to add a backslash before them. For other font characters such as superscripts and subscripts, we use math symbols as these are mathematical expressions, but not quite equations. So for these characters, we use dollar signs. For macrons use symbol. See the attached cheat sheet from Overleaf for these special characters.\n",
    "\n",
    "\n",
    "## How to copy paste from word processors\n",
    "\n",
    "When you write in Overleaf, you may want to copy and paste from a word processor such as Microsoft Word. When you do so, make sure that at the time of pasting the text, you \"paste and match the style\" rather than just copy and paste chunks of text from word processor programmes. These will still throw errors particularly if you have used symbols and special characters without the escape symbols before them. YOu will need to be patiently search for these errors and correct them. Fortunately, Overleaf will help you to troubleshoot most of these changes. Tables from Word will not paste automatically to LaTeX, and you will need to import the tables separately. Ditto with figures. For these you will need to do things differently, as explained below. LaTeX or Overleaf will not also import citations and reference list as Overleaf/LaTeX uses a different format. We will discuss these in the relevant sections. \n",
    "\n",
    "## Set up the bibliography (see Step 5)\n",
    "\n",
    "## Input the documents\n",
    "\n",
    "Now that we created the three documents for this paper, we shall put in these three documents using the ```\\input{documentname}``` command.\n",
    "The documentname in this case is the name of the document we made, so these will be introduction, tools, and discussion. Note that we did not put the filename extension in the input command. \n"
   ]
  },
  {
   "cell_type": "code",
   "execution_count": 7,
   "metadata": {
    "collapsed": false
   },
   "outputs": [
    {
     "data": {
      "text/latex": [
       "Add \\usepackage{graphicx}, \n",
       "\n",
       "M\\=aori, \n",
       "\n",
       "\\& is how you write ampersand, \n",
       "\n",
       "\\% is how you write percentage"
      ],
      "text/plain": [
       "<IPython.core.display.Latex object>"
      ]
     },
     "metadata": {},
     "output_type": "display_data"
    }
   ],
   "source": [
    "%%latex\n",
    "Add \\usepackage{graphicx}, \n",
    "\n",
    "M\\=aori, \n",
    "\n",
    "\\& is how you write ampersand, \n",
    "\n",
    "\\% is how you write percentage"
   ]
  },
  {
   "cell_type": "markdown",
   "metadata": {},
   "source": [
    "## Step 5: Set up a Bibliography File and Referencing \n",
    "\n",
    "Your academic document is not complete without referring to a resource and some prior research. For this paper, we researched the Internet on what otehr academics have written on online collaborative scholarly documentation and we identified the following three papers:\n",
    "\n",
    "We found a large systematic review by Archambault in 2013 where they found that wikis or collaborative writing was helpful for translation of knowledge in health care but at that stage they thought more research was needed. The full reference is as follows:\n",
    "\n",
    "**Archambault PM, van de Belt TH, Grajales III FJ, Faber MJ, Kuziemsky CE, Gagnon S, Bilodeau A, Rioux S, Nelen WL, Gagnon MP, Turgeon AF. Wikis and collaborative writing applications in health care: a scoping review. Journal of medical Internet research. 2013;15(10):e210.**\n",
    "\n",
    "Bevan et al (2014) wrote a paper on citizen archaeologists and how they used collaborative writing with citizens and scientists to foster archaelological research. The paper is referenced as follows:\n",
    "\n",
    "**Bevan AH, Pett D, Bonacchi C, Keinan A, Lombraña González D, Sparks RT, Wexler J, Wilkin N. Citizen archaeologists. Online collaborative research about the human past. Human Computation. 2014;1(2):183-97.**\n",
    "\n",
    "A study on students collaborative writing by Levenberg and Barak (2015) where they found that while students could gain from collaborative writing, there was also some resistance and students often went back to using traditional non-collaborative tools for writing. They concluded that it would be important to do more research on collaborative writing in a classroom setting. The full citation here:\n",
    "\n",
    "**Levenberg A, Barak M. A table for four: Collaborative writing in shared cloud documents. A Table for Four: Collaborative Writing in Shared Cloud Documents. 2015.**\n",
    "\n",
    "Now these were a few papers we identified that we would use to build our argument that online collaborative writing are actively researched in research and teaching settings and researchers have stressed the emphasis of more research and generation of more knowledge. In order to do this, these three articles will form our reference base. In your actual research, you will no doubt use more articles and references and citations, and will collect a whole number of them. \n",
    "\n",
    "In the world of LaTeX and Overleaf, we use a format of writing and storing bibliographic data referred to as \"bibtex\". You should visit the [bibtex.org](http://www.bibtex.org) website to learn more about this format and refer to the [Wikibooks bibliography management for LaTeX entry](https://en.wikibooks.org/wiki/LaTeX/Bibliography_Management) to gain a deeper understanding of this format. Here, we are only going to touch the most basic useful things that you will need to know to get it working in Overleaf. \n",
    "\n",
    "The first thing that you want to do is to add an empty file with the filename extension .bib in the file manager. You will see that in our case, Overleaf has already set up a sample.bib file, which we will call here \"bib file\". You can use this file to start with but sooner or later, once you gain some practice experience writing in LaTeX, you will want to set up your own bib file. Second, you populate this file with bibtex entries as follows:\n",
    "\n",
    "![Bibtex Entry](http://i.imgur.com/UH3w82d.png)\n",
    "\n",
    "There are principles and styles of creating these entries for different types of resources (for example articles, books, book chapters, conference proceedings and so on). In most situations, many search engines such as Google Scholar, most online journal sites, and all reference managers including Endnote, Mendeley, Papers, Zotero and others will let you export their citation entries in Bibtex format. You will almost never have to hard code bibtex file entries yourself these days. To work with Overleaf, you will need to obtain bibtex entries in these format and then copy and paste the information into your bib file. \n",
    "\n",
    "Once you have the entries in your bib file when you write in Overleaf, when you want to cite an article or a book chapter or another resource, you will have to type in the following code:```\\cite{ID_code_of_the_resource}```\n",
    "\n",
    "Then, depending on where you want your list of references to appear -- usually at the end of the document -- stick the following code in two separate lines. You will see the main.tex of the document just above the end of the document codes to see what I mean. \n",
    "\n",
    "In our case, we shall use the bibliography file name \"sample\", and we shall use the plain style to output our references and citations. This just adds a number within square brackets and places the references in alphabetical order. If you prefer other styles, there are other ways of doing these. For a comprehensive list of bibliography styles, see the [list maintained by MacKichan Software](http://www.mackichan.com/index.html?techtalk/632.htm~mainFrame)\n"
   ]
  },
  {
   "cell_type": "code",
   "execution_count": 15,
   "metadata": {
    "collapsed": false
   },
   "outputs": [
    {
     "data": {
      "text/latex": [
       "\\bibliography{filename}\n",
       "\\bibliographystyle{plain}"
      ],
      "text/plain": [
       "<IPython.core.display.Latex object>"
      ]
     },
     "metadata": {},
     "output_type": "display_data"
    }
   ],
   "source": [
    "%%latex\n",
    "\\bibliography{filename}\n",
    "\\bibliographystyle{plain}\n"
   ]
  },
  {
   "cell_type": "markdown",
   "metadata": {},
   "source": [
    "## Step 6: Let's start writing in the RTF window \n",
    "\n",
    "After this initial set up, let us begin writing a few lines and perhaps a paragraph. We shall use simple paragraphs, lists, hyperlinks, and citations as we write. Writing simple paragraphs is intuitive, and you can use the RTF to write them, adding lists is from the upper list drop down icon and there are two types of links: enumerated links where you can use numbers to itemise your contents, or you can use bullet point type simple itemising of your contents. To add citations, see the note above. To add hyperlinks, you will need to use the hyperref package. This package is already included and configured in the preamble if you use the article or paper writing template in Overleaf. The way to use this is to put the URL within the curly brackets first and then the description of the link, like as follows: ```\\href{url}{description}```\n",
    "\n",
    "When we write here, using the documents as we have created here, we can write in the rich text window and we can use the smaller anchor sign or the subsection to make our section headings for these documents. "
   ]
  },
  {
   "cell_type": "markdown",
   "metadata": {},
   "source": [
    "## Step 7: Add Figures to your paper\n",
    "\n",
    "Till now, we have used free texts and paragraphs to structure our thoughts and write our paper. This is fine but not enough for our purpose as we are now interested to include pictures and graphics and tables of data that we would like to show particularly in an academic paper. These are done using inserting environments which begin with a statement to begin the environment and end with the name of the enviroment. For figures, the name of the environment which will contain the graphics is figure, and for tables, well, it is table. In between that container space we specify the particulars of the content. We also specify where we want the figure or the table to appear in the document, although the software sort of \"decides\" the best position to put the particular environment, we do not have to do it. Besides, we also put a label to this environment so that we can refer to it wherever we want in our documents. We add a label to it as well. \n",
    "\n",
    "**The first thing to do in Overleaf is to upload or add a figure to the file manager space**\n",
    "\n",
    "You can do that in two ways:\n",
    "\n",
    "### You can add figures directly from your hard drive\n",
    "\n",
    "1. Upload files\n",
    "2. Locate the file in your hard drive (should be one of the following extensions, jpg or png)\n",
    "3. Upload the file or files to the folder space on the left hand side\n",
    "\n",
    "### You can add figures by passing external URLs\n",
    "1. Locate the image in the external URL\n",
    "2. Note the URL (the URL must end in .jpg or .png, or .gif\n",
    "3. Select Add by URL, and then pass the URL \n",
    "4. Your image will be available now for adding\n",
    "\n",
    "### Now add the following code to your Overleaf document\n",
    "\n",
    "- Add a caption\n",
    "- Specify where you would like the figure (h = here, t = top of the page so we add these two within square brackets)\n",
    "- Tell LaTeX how wide you want the figure [width=\\textwidth] indicates you want it as wide as the width of the text. You can specify shorter or longer.\n",
    "- Definitely add a label after the caption so that you can refer to this figure elsewhere in the document. \n",
    "\n",
    "In our introduction, let's add an image of a representation of the world wide web. Here's a pretty (I think) picture of the globe I downloaded from a [free public domain images website](http://www.publicdomainpictures.net):\n",
    "\n",
    "![Nice Globe Picture](http://i.imgur.com/LRZTslg.jpg)\n",
    "\n",
    "Here are the steps:\n",
    "\n",
    "1. You can download this picture directly from here and then upload it to your file manager\n",
    "2. Or you can directly link to this picture by passing the URL (which is what we will do to save time)\n",
    "3. Rename the file to your preferred name (we call it globe)\n",
    "\n",
    "Then we add this little code below, just copy and paste this code to where you want your picture to appear. \n"
   ]
  },
  {
   "cell_type": "code",
   "execution_count": 1,
   "metadata": {
    "collapsed": false
   },
   "outputs": [
    {
     "data": {
      "text/latex": [
       "\\begin{figure}[ht]\n",
       "\\includegraphics[width=\\textwidth]{globe}\n",
       "\\caption{The world in our hand}\n",
       "\\label{fig:globe}\n",
       "\\end{figure}"
      ],
      "text/plain": [
       "<IPython.core.display.Latex object>"
      ]
     },
     "metadata": {},
     "output_type": "display_data"
    }
   ],
   "source": [
    "%%latex\n",
    "\\begin{figure}[ht]\n",
    "\\includegraphics[width=\\textwidth]{globe}\n",
    "\\caption{The world in our hand}\n",
    "\\label{fig:globe}\n",
    "\\end{figure}"
   ]
  },
  {
   "cell_type": "markdown",
   "metadata": {},
   "source": [
    "## Step 8: Add Tables to your document\n",
    "\n",
    "In the same way you added a figure environment to your document, we will continue to add a table. There are a few points of style here. Decide before hand if a table would be best to express what you want to write. There are entire books and sections devoted to writing tables, including whether creating a table is the best thing to do. Also, how tables should ideally look like. Simon Fear wrote a particularly interesting article on the distinction between what constitutes a table versus a tableau and therefore on the art of table creation and I encourage you to read the paper on publication quality tables in LaTeX. Here is the link to the PDF document:\n",
    "\n",
    "[Publication Quality Tables in LaTeX](http://texdoc.net/texmf-dist/doc/latex/booktabs/booktabs.pdf)\n",
    "\n",
    "We will use the booktabs package to create tables in Overleaf. Note that Overleaf does not provide you with a WYSIWYG table creating link like it does for lists and equations, so you will need to be in the \"Source Code\" mode to work with this. So, in the tools.tex document, let's switch to the \"Source\" mode. \n",
    "\n",
    "If you are confident about creating tables in LaTeX, skip this. Otherwise, we will use an online service to create tables. I prefer to use tablesgenerator for its flexibility but there are other choices. YMMV. So, steps:\n",
    "\n",
    "Visit [tablesgenerator.com](http://www.tablesgenerator.com) webpage. Here's the lowdown:\n",
    "![Tables generator](tables_generator.png)\n",
    "\n",
    "So, we will use this to create a table where we will list some of the existing services and tools to create online documents. To keep things simple, we just use a three rows by two columns table. The first row will be the header column, and the second and third rows where we are going to write some text. We keep writing the table and then each time we make changes, we press the \"Generate\" button. In the end, we get a code box that looks like as follows:\n",
    "\n",
    "![Code Generated](http://i.imgur.com/TqdKjfD.png)\n",
    "\n",
    "Now copy and paste the code to the Source code. A few  things:\n",
    "\n",
    "1. You must provide a caption to this table\n",
    "2. You should also provide a label. The label must be unique to this table. A label that you assign to this table cannot be assigned to any other table object. For tables, a convention might be to use the format \"tab:tablename\", for example, we label the current table as tab:tools. Note that you cannot make those changes directly in the tablesgenerator page, you must make those changes in Overleaf. \n",
    "3. LaTeX usually places tables to the top of the page if you have provided the ht or the here and top as your two preferences. You can learn how to write and edit tables in LaTeX from numerous places on the Internet, and I recommend you check out the Wikibooks first. Here is the link:\n",
    "\n",
    "[Wikibooks LaTeX Table Entry](https://en.wikibooks.org/wiki/LaTeX/Tables)"
   ]
  },
  {
   "cell_type": "code",
   "execution_count": null,
   "metadata": {
    "collapsed": true
   },
   "outputs": [],
   "source": [
    "%%latex\n",
    "\n",
    "% Please add the following required packages to your document preamble:\n",
    "% \\usepackage{booktabs}\n",
    "\\begin{table}[ht]\n",
    "\\centering\n",
    "\\caption{Table of Tools}\n",
    "\\label{tab:tools}\n",
    "\\begin{tabular}{@{}ll@{}}\n",
    "\\toprule\n",
    "Tool        & Description                                  \\\\ \\midrule\n",
    "Google Docs & An Online collaborative word processor       \\\\\n",
    "Markdown    & A web friendly format to write in plain text \\\\ \\bottomrule\n",
    "\\end{tabular}\n",
    "\\end{table}\n"
   ]
  },
  {
   "cell_type": "markdown",
   "metadata": {},
   "source": [
    "## Step 9: Share and distribute your document and add comments\n",
    "\n",
    "The real strength of Overleaf as a writing tool is its tight intergration with the Online services and its share-abiility. You can share the document you are working on, bring your collaborators to work together with you and there is no *pressure* on them to sign up just to edit the document. This is a great feature. You can also go offline using git to work with your Overleaf document. Besides, you can virtually use a one-click option to publish your document to a number of publishers, journals and editors. \n",
    "\n",
    "## Share your document\n",
    "Now that you have written your document, share it with your co-authors. To do this, you click on the share button on the top of the Overleaf document, and this will bring up the following screen:\n",
    "\n",
    "![Sharing screen](http://i.imgur.com/3z8G7Rq.png)\n",
    "\n",
    "You can send your read and edit links using email, linkedin, facebook and twitter. You can even clone your repository with git and work offline. So that you can share your LaTeX files with your colleagues and compile together. You can publish on Overleaf site itself. Even better, you can push your article to a number of journal sites and services. \n",
    "\n",
    "\n"
   ]
  },
  {
   "cell_type": "markdown",
   "metadata": {},
   "source": [
    "## Step 10: Troubleshoot "
   ]
  },
  {
   "cell_type": "markdown",
   "metadata": {},
   "source": [
    "## Resources\n",
    "\n",
    "Wikibooks\n",
    "\n",
    "Overleaf's own tutorials\n",
    "\n",
    "Stack Overflow LaTeX page"
   ]
  },
  {
   "cell_type": "code",
   "execution_count": null,
   "metadata": {
    "collapsed": true
   },
   "outputs": [],
   "source": []
  }
 ],
 "metadata": {
  "kernelspec": {
   "display_name": "Python 2",
   "language": "python",
   "name": "python2"
  },
  "language_info": {
   "codemirror_mode": {
    "name": "ipython",
    "version": 2
   },
   "file_extension": ".py",
   "mimetype": "text/x-python",
   "name": "python",
   "nbconvert_exporter": "python",
   "pygments_lexer": "ipython2",
   "version": "2.7.12"
  }
 },
 "nbformat": 4,
 "nbformat_minor": 1
}
