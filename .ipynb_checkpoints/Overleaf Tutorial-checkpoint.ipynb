{
 "cells": [
  {
   "cell_type": "markdown",
   "metadata": {},
   "source": [
    "## Overleaf Tutorial\n",
    "\n",
    "The purpose of this tutorial is to get you up and running with Overleaf. [Overleaf](http://www.overleaf.com) is a web based LaTeX backend writing tool. You can use Overleaf to write almost any type of document ranging from simple notes to complex documents such as theses and even use Overleaf to create slide decks. In this tutorial, I will get you started to use Overleaf. Overleaf has an extensive set of tutorials that you can use to learn more about this platform. Besides these tutorials, you should also make yourself familiar with the principles of working with LaTeX and the two great sites are LaTeX stackexchange and the LaTeX wikibooks. A set of resources are provided at the end of this tutorial. \n",
    "\n",
    "## Step 1: Get an Account with Overleaf\n",
    "Visit [Overleaf](http://www.overleaf.com) website and set up for yourself a free Overleaf Account. This will take about two minutes to get yourself going.\n",
    "\n",
    "## Step 2: Open a Project: Start with an Article\n",
    "**Concept of Project in Overleaf**\n",
    "A project is a folder that contains any number of files. The limit of total filesize for free account is 1 GB. For paid accounts, it is usually 10 GB. For plain text and simple image files, this is a large file size limit. The following types of files are allowed to be uploaded or created in this folder:\n",
    "\n",
    "- LaTeX files, or files whose filename end with .tex, such as foo.tex\n",
    "- Plain text files, files whose filenae extension end with .txt\n",
    "- Markdown Files whose filename extensions end with .markdown or .md \n",
    "- Image files. Try to use portable network graphics type of files or jpeg files as these files are compressed and useful for web presentation, and also for high resolution images.\n",
    "- code files such as R files whose extensions end with .R \n",
    "- Bibliography files whose filenames end with .bib, as in foo.bib\n",
    "- When you attempt to upload files to Overleaf, it will alert you as to what kind of files are allowed\n",
    "\n",
    "Overleaf is great for writing scholarly articles and collaborating with others. Scholarly articles usually have images, tables, figures, citations, and reference/bibliography embedded in them. These days an overwhelming majority of scholarly and academic articles are multi-authored and therefore it is a good practice to share your articles with colleagues or coauthors. Therefore, many scholar keep copies of articles in web or online repositories. Further, many articles are also published or made available over online. Overleaf is a great way to accomplish all these tasks. Besides writing articles, scholars or academics also create inforgraphics or slide decks for teaching and presentation of their data. Using Beamer class in Overleaf it is possible to create slide decks for presentation and distribution. In this presentation, we will not have the opportunity to showcase everything, but this notebook will contain instructions for creating slide decks with Overleaf as well. \n",
    "\n",
    "## Step 3: Give your article a title and name yourself as author\n",
    "\n",
    "\n",
    "\n"
   ]
  },
  {
   "cell_type": "markdown",
   "metadata": {},
   "source": [
    "## Step 4: Start writing the abstract"
   ]
  },
  {
   "cell_type": "code",
   "execution_count": 10,
   "metadata": {
    "collapsed": false
   },
   "outputs": [
    {
     "data": {
      "text/latex": [
       "\\usepackage{graphicx}"
      ],
      "text/plain": [
       "<IPython.core.display.Latex object>"
      ]
     },
     "metadata": {},
     "output_type": "display_data"
    }
   ],
   "source": [
    "%%latex\n",
    "\\usepackage{graphicx}"
   ]
  },
  {
   "cell_type": "markdown",
   "metadata": {},
   "source": [
    "## Step 5: Adding Figures\n",
    "\n",
    "### Adding figures from hard drive\n",
    "\n",
    "1. Upload files\n",
    "2. Locate the file in your hard drive (should be one of the following extensions, jpg or png)\n",
    "3. Upload the file or files to the folder space on the left hand side\n",
    "\n",
    "### Adding figures from external URLs\n",
    "1. Locate the image in the external URL\n",
    "2. Note the URL (the URL must end in .jpg or .png, or .gif\n",
    "3. Select Add by URL, and then pass the URL \n",
    "4. Your image will be available now for adding\n",
    "\n",
    "### Now add the following code to your Overleaf document\n",
    "\n"
   ]
  },
  {
   "cell_type": "code",
   "execution_count": 9,
   "metadata": {
    "collapsed": false
   },
   "outputs": [
    {
     "data": {
      "text/latex": [
       "\\begin{figure}[ht]\n",
       "\\includegraphics{figurename}\n",
       "\\caption{Write the caption here}\n",
       "\\end{figure}"
      ],
      "text/plain": [
       "<IPython.core.display.Latex object>"
      ]
     },
     "metadata": {},
     "output_type": "display_data"
    }
   ],
   "source": [
    "%%latex\n",
    "\\begin{figure}[ht]\n",
    "\\includegraphics{figurename}\n",
    "\\caption{Write the caption here}\n",
    "\\end{figure}"
   ]
  },
  {
   "cell_type": "markdown",
   "metadata": {},
   "source": [
    "## Step 6: Add Tables to your document\n",
    "\n",
    "### Easy Way (Copy and Paste from Online services):\n",
    "\n",
    "1. Use Online services to create LaTeX Tables\n",
    "2. Use [tablesgenerator.com](http://www.tablesgenerator.com) and create LaTeX tables\n",
    "3. Use [truben.no](http://www.truben.no) to create tables\n",
    "\n",
    "Once you create tables in those services, just copy and paste the code to Overleaf raw source code area."
   ]
  },
  {
   "cell_type": "markdown",
   "metadata": {},
   "source": [
    "## Step 7: Add Citations and Bibliography\n",
    "\n",
    "### Create a bibtex file directly in the folder and work from there\n",
    "\n",
    "### Create a bibtex file in your hard drive and upload to the folder space\n",
    "\n",
    "### Keep a bibtex file in Mendeley, Zotero, or citeulike and link from there\n",
    "\n",
    "To insert citations within the text use ```\\cite{citationID}```\n",
    "\n",
    "### To generate the list of references, add the following code block"
   ]
  },
  {
   "cell_type": "code",
   "execution_count": 15,
   "metadata": {
    "collapsed": false
   },
   "outputs": [
    {
     "data": {
      "text/latex": [
       "\\bibliography{filename}\n",
       "\\bibliographystyle{plain}"
      ],
      "text/plain": [
       "<IPython.core.display.Latex object>"
      ]
     },
     "metadata": {},
     "output_type": "display_data"
    }
   ],
   "source": [
    "%%latex\n",
    "\\bibliography{filename}\n",
    "\\bibliographystyle{plain}\n"
   ]
  },
  {
   "cell_type": "markdown",
   "metadata": {},
   "source": [
    "## Section 8: Lists, Special Characters, and Equations\n",
    "\n",
    "The lists in Overleaf \n",
    "\n",
    "- Bullet point based lists or Itemized lists\n",
    "- Enumerated Lists\n",
    "- Descriptioin Lists\n",
    "\n",
    "Special Characters are usually expressed with escape characters that is a backslash '\\'. \n",
    "For example the ampersand symbol (the symbol for and is simply \\&). While for more complicated symbols, add a dollar sign before the backslash. A full list of these special characters is found in the wikibooks page here:\n",
    "\n",
    "[wikibooks Guide](https://en.wikibooks.org/wiki/LaTeX/Special_Characters)\n",
    "\n",
    "Equations are likewise written using the double dollar signs. There are many different ways of writing these, check out the [Wikibooks Guide Pages](https://en.wikibooks.org/wiki/LaTeX/Mathematics)\n",
    "\n",
    "\n"
   ]
  },
  {
   "cell_type": "markdown",
   "metadata": {},
   "source": [
    "## Section 9: Formatting your document and modifying its appearances"
   ]
  },
  {
   "cell_type": "markdown",
   "metadata": {},
   "source": [
    "## Section 10: Resources\n",
    "\n",
    "Wikibooks\n",
    "Overleaf's own tutorials\n",
    "Stack Overflow LaTeX page"
   ]
  },
  {
   "cell_type": "code",
   "execution_count": null,
   "metadata": {
    "collapsed": true
   },
   "outputs": [],
   "source": []
  }
 ],
 "metadata": {
  "kernelspec": {
   "display_name": "Python 2",
   "language": "python",
   "name": "python2"
  },
  "language_info": {
   "codemirror_mode": {
    "name": "ipython",
    "version": 2
   },
   "file_extension": ".py",
   "mimetype": "text/x-python",
   "name": "python",
   "nbconvert_exporter": "python",
   "pygments_lexer": "ipython2",
   "version": "2.7.12"
  }
 },
 "nbformat": 4,
 "nbformat_minor": 1
}
